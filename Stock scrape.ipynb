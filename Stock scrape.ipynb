{
 "metadata": {
  "language_info": {
   "codemirror_mode": {
    "name": "ipython",
    "version": 3
   },
   "file_extension": ".py",
   "mimetype": "text/x-python",
   "name": "python",
   "nbconvert_exporter": "python",
   "pygments_lexer": "ipython3",
   "version": "3.8.6"
  },
  "orig_nbformat": 2,
  "kernelspec": {
   "name": "python3",
   "display_name": "Python 3.8.6 64-bit ('envname02': venv)",
   "metadata": {
    "interpreter": {
     "hash": "e6b7cdf9841c1bc41ed209fe38484c944a771f87c7a39171617f5cee59c74bef"
    }
   }
  }
 },
 "nbformat": 4,
 "nbformat_minor": 2,
 "cells": [
  {
   "source": [
    "## 创建函数"
   ],
   "cell_type": "markdown",
   "metadata": {}
  },
  {
   "cell_type": "code",
   "execution_count": null,
   "metadata": {},
   "outputs": [],
   "source": [
    "import requests\n",
    "from urllib.parse import urlencode\n",
    "import json\n",
    "import time\n",
    "import pandas as pd\n",
    "\n",
    "## source \"/Users/Anderson/Desktop/PhDwork/Py-Github/venv/bin/activate\" 激活虚拟环境\n",
    "## 自定义函数：\n",
    "## 当输入股票的id 688396。\n",
    "\n",
    "def Get_piao(id=688396):\n",
    "    import requests\n",
    "    piao=\"1.\"+str(id)\n",
    "\n",
    "    headers = {\n",
    "        'Connection': 'keep-alive',\n",
    "        'User-Agent': 'Mozilla/5.0 (Macintosh; Intel Mac OS X 10_15_7) AppleWebKit/537.36 (KHTML, like Gecko) Chrome/78.0.3904.108 Safari/537.36',\n",
    "        'Accept': '*/*',\n",
    "        'Referer': 'http://quote.eastmoney.com/basic/h5chart-iframe.html?code=603799&market=1&type=r',\n",
    "        'Accept-Encoding': 'gzip, deflate',\n",
    "        'Accept-Language': 'en-US,en;q=0.9,zh-CN;q=0.8,zh;q=0.7',\n",
    "    }\n",
    "\n",
    "    params = (\n",
    "        ('fields1', 'f1,f2,f3,f4,f5,f6,f7,f8,f9,f10,f11,f12,f13'),\n",
    "        ('fields2', 'f51,f52,f53,f54,f55,f56,f57,f58,f59,f60,f61'),\n",
    "        ('beg', '0'),\n",
    "        ('end', '20500101'),\n",
    "        ('ut', 'fa5fd1943c7b386f172d6893dbfba10b'),\n",
    "        ('rtntype', '6'),\n",
    "        ('secid', piao),\n",
    "        ('klt', '101'),\n",
    "        ('fqt', '1'),\n",
    "        #('cb', 'jsonp1629285089974'),\n",
    "    )\n",
    "\n",
    "    response = requests.get('http://push2his.eastmoney.com/api/qt/stock/kline/get', headers=headers, params=params, verify=False)\n",
    "\n",
    "    # 存储数据\n",
    "    content = response.text\n",
    "    # 判断内容是否大于100，因为有些票的信息是沪股，有些是深股\n",
    "    if len(content)> 100:\n",
    "      piao=\"1.\"+str(id)\n",
    "      params = (\n",
    "        ('fields1', 'f1,f2,f3,f4,f5,f6,f7,f8,f9,f10,f11,f12,f13'),\n",
    "        ('fields2', 'f51,f52,f53,f54,f55,f56,f57,f58,f59,f60,f61'),\n",
    "        ('beg', '0'),\n",
    "        ('end', '20500101'),\n",
    "        ('ut', 'fa5fd1943c7b386f172d6893dbfba10b'),\n",
    "        ('rtntype', '6'),\n",
    "        ('secid', piao),\n",
    "        ('klt', '101'),\n",
    "        ('fqt', '1'),\n",
    "        #('cb', 'jsonp1629285089974'),\n",
    "    )\n",
    "    else:\n",
    "      piao=\"0.\"+str(id)\n",
    "      params = (\n",
    "        ('fields1', 'f1,f2,f3,f4,f5,f6,f7,f8,f9,f10,f11,f12,f13'),\n",
    "        ('fields2', 'f51,f52,f53,f54,f55,f56,f57,f58,f59,f60,f61'),\n",
    "        ('beg', '0'),\n",
    "        ('end', '20500101'),\n",
    "        ('ut', 'fa5fd1943c7b386f172d6893dbfba10b'),\n",
    "        ('rtntype', '6'),\n",
    "        ('secid', piao),\n",
    "        ('klt', '101'),\n",
    "        ('fqt', '1'),\n",
    "        #('cb', 'jsonp1629285089974'),\n",
    "    )\n",
    "# 读取网页信息\n",
    "    response = requests.get('http://push2his.eastmoney.com/api/qt/stock/kline/get', headers=headers, params=params, verify=False)\n",
    "    content = response.text\n",
    "\n",
    "# 设置保存路径\n",
    "    Path=\"/Users/Anderson/Desktop/PhDwork/Py-Github/Piao/\"+str(id)+\".txt\"\n",
    "\n",
    "    f = open(Path, \"w\")\n",
    "    s=content\n",
    "    f.write(s)\n",
    "    # 关闭打开的文件，必须关闭不然电脑能炸裂\n",
    "    f.close()\n",
    "\n",
    "\n",
    "## 循环\n",
    "\n"
   ]
  },
  {
   "cell_type": "code",
   "execution_count": 59,
   "metadata": {},
   "outputs": [
    {
     "output_type": "execute_result",
     "data": {
      "text/plain": [
       "0    001208\n",
       "1    601908\n",
       "2    002080\n",
       "3    002837\n",
       "4    002040\n",
       "5    603260\n",
       "dtype: object"
      ]
     },
     "metadata": {},
     "execution_count": 59
    }
   ],
   "source": [
    "## 读取piao的代码信息\n",
    "yy=(\"001208\",\"601908\",\"002080\",\"002837\",\"002040\",\"603260\")\n",
    "y=pd.Series(yy)\n",
    "y\n"
   ]
  },
  {
   "cell_type": "code",
   "execution_count": 60,
   "metadata": {},
   "outputs": [],
   "source": [
    "## 循环获取piao的信息\n",
    "for i in y:\n",
    "    Get_piao(i)\n"
   ]
  },
  {
   "cell_type": "code",
   "execution_count": null,
   "metadata": {},
   "outputs": [],
   "source": [
    "## 查看原来目录，就可以看到多出的 001208.txt 文件"
   ]
  }
 ]
}